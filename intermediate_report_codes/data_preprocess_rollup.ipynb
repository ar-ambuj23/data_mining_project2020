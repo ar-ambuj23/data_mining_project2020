{
 "cells": [
  {
   "cell_type": "code",
   "execution_count": 58,
   "metadata": {},
   "outputs": [],
   "source": [
    "import pandas as pd\n",
    "import numpy as np\n",
    "import matplotlib as mpl\n",
    "import matplotlib.pyplot as plt\n",
    "\n",
    "from sklearn.metrics import mean_squared_error\n",
    "\n",
    "pd.set_option('display.max_rows', 500)"
   ]
  },
  {
   "cell_type": "code",
   "execution_count": 2,
   "metadata": {},
   "outputs": [],
   "source": [
    "# load the data\n",
    "data = pd.read_csv('../../btcusd.csv')"
   ]
  },
  {
   "cell_type": "markdown",
   "metadata": {},
   "source": [
    "### Timestamp Conversion"
   ]
  },
  {
   "cell_type": "code",
   "execution_count": 3,
   "metadata": {},
   "outputs": [],
   "source": [
    "data['time'] = pd.to_datetime(data['time'], unit = 'ms')"
   ]
  },
  {
   "cell_type": "code",
   "execution_count": 4,
   "metadata": {},
   "outputs": [],
   "source": [
    "data.set_index('time', inplace = True)"
   ]
  },
  {
   "cell_type": "code",
   "execution_count": 5,
   "metadata": {},
   "outputs": [
    {
     "data": {
      "text/html": [
       "<div>\n",
       "<style scoped>\n",
       "    .dataframe tbody tr th:only-of-type {\n",
       "        vertical-align: middle;\n",
       "    }\n",
       "\n",
       "    .dataframe tbody tr th {\n",
       "        vertical-align: top;\n",
       "    }\n",
       "\n",
       "    .dataframe thead th {\n",
       "        text-align: right;\n",
       "    }\n",
       "</style>\n",
       "<table border=\"1\" class=\"dataframe\">\n",
       "  <thead>\n",
       "    <tr style=\"text-align: right;\">\n",
       "      <th></th>\n",
       "      <th>open</th>\n",
       "      <th>close</th>\n",
       "      <th>high</th>\n",
       "      <th>low</th>\n",
       "      <th>volume</th>\n",
       "    </tr>\n",
       "    <tr>\n",
       "      <th>time</th>\n",
       "      <th></th>\n",
       "      <th></th>\n",
       "      <th></th>\n",
       "      <th></th>\n",
       "      <th></th>\n",
       "    </tr>\n",
       "  </thead>\n",
       "  <tbody>\n",
       "    <tr>\n",
       "      <th>2013-04-01 00:07:00</th>\n",
       "      <td>93.25</td>\n",
       "      <td>93.30</td>\n",
       "      <td>93.30</td>\n",
       "      <td>93.25</td>\n",
       "      <td>93.300000</td>\n",
       "    </tr>\n",
       "    <tr>\n",
       "      <th>2013-04-01 00:08:00</th>\n",
       "      <td>100.00</td>\n",
       "      <td>100.00</td>\n",
       "      <td>100.00</td>\n",
       "      <td>100.00</td>\n",
       "      <td>93.300000</td>\n",
       "    </tr>\n",
       "    <tr>\n",
       "      <th>2013-04-01 00:09:00</th>\n",
       "      <td>93.30</td>\n",
       "      <td>93.30</td>\n",
       "      <td>93.30</td>\n",
       "      <td>93.30</td>\n",
       "      <td>33.676862</td>\n",
       "    </tr>\n",
       "    <tr>\n",
       "      <th>2013-04-01 00:11:00</th>\n",
       "      <td>93.35</td>\n",
       "      <td>93.47</td>\n",
       "      <td>93.47</td>\n",
       "      <td>93.35</td>\n",
       "      <td>20.000000</td>\n",
       "    </tr>\n",
       "    <tr>\n",
       "      <th>2013-04-01 00:12:00</th>\n",
       "      <td>93.47</td>\n",
       "      <td>93.47</td>\n",
       "      <td>93.47</td>\n",
       "      <td>93.47</td>\n",
       "      <td>2.021627</td>\n",
       "    </tr>\n",
       "    <tr>\n",
       "      <th>...</th>\n",
       "      <td>...</td>\n",
       "      <td>...</td>\n",
       "      <td>...</td>\n",
       "      <td>...</td>\n",
       "      <td>...</td>\n",
       "    </tr>\n",
       "    <tr>\n",
       "      <th>2020-02-07 18:19:00</th>\n",
       "      <td>9764.00</td>\n",
       "      <td>9762.50</td>\n",
       "      <td>9764.00</td>\n",
       "      <td>9762.00</td>\n",
       "      <td>0.170632</td>\n",
       "    </tr>\n",
       "    <tr>\n",
       "      <th>2020-02-07 18:20:00</th>\n",
       "      <td>9762.00</td>\n",
       "      <td>9767.10</td>\n",
       "      <td>9769.40</td>\n",
       "      <td>9761.90</td>\n",
       "      <td>7.720155</td>\n",
       "    </tr>\n",
       "    <tr>\n",
       "      <th>2020-02-07 18:21:00</th>\n",
       "      <td>9768.40</td>\n",
       "      <td>9769.40</td>\n",
       "      <td>9769.40</td>\n",
       "      <td>9766.60</td>\n",
       "      <td>2.257836</td>\n",
       "    </tr>\n",
       "    <tr>\n",
       "      <th>2020-02-07 18:22:00</th>\n",
       "      <td>9768.00</td>\n",
       "      <td>9767.20</td>\n",
       "      <td>9769.20</td>\n",
       "      <td>9767.20</td>\n",
       "      <td>0.555650</td>\n",
       "    </tr>\n",
       "    <tr>\n",
       "      <th>2020-02-07 18:23:00</th>\n",
       "      <td>9767.20</td>\n",
       "      <td>9768.20</td>\n",
       "      <td>9768.20</td>\n",
       "      <td>9765.50</td>\n",
       "      <td>0.215276</td>\n",
       "    </tr>\n",
       "  </tbody>\n",
       "</table>\n",
       "<p>2638440 rows × 5 columns</p>\n",
       "</div>"
      ],
      "text/plain": [
       "                        open    close     high      low     volume\n",
       "time                                                              \n",
       "2013-04-01 00:07:00    93.25    93.30    93.30    93.25  93.300000\n",
       "2013-04-01 00:08:00   100.00   100.00   100.00   100.00  93.300000\n",
       "2013-04-01 00:09:00    93.30    93.30    93.30    93.30  33.676862\n",
       "2013-04-01 00:11:00    93.35    93.47    93.47    93.35  20.000000\n",
       "2013-04-01 00:12:00    93.47    93.47    93.47    93.47   2.021627\n",
       "...                      ...      ...      ...      ...        ...\n",
       "2020-02-07 18:19:00  9764.00  9762.50  9764.00  9762.00   0.170632\n",
       "2020-02-07 18:20:00  9762.00  9767.10  9769.40  9761.90   7.720155\n",
       "2020-02-07 18:21:00  9768.40  9769.40  9769.40  9766.60   2.257836\n",
       "2020-02-07 18:22:00  9768.00  9767.20  9769.20  9767.20   0.555650\n",
       "2020-02-07 18:23:00  9767.20  9768.20  9768.20  9765.50   0.215276\n",
       "\n",
       "[2638440 rows x 5 columns]"
      ]
     },
     "execution_count": 5,
     "metadata": {},
     "output_type": "execute_result"
    }
   ],
   "source": [
    "data"
   ]
  },
  {
   "cell_type": "markdown",
   "metadata": {},
   "source": [
    "### Null Values"
   ]
  },
  {
   "cell_type": "code",
   "execution_count": 6,
   "metadata": {},
   "outputs": [
    {
     "data": {
      "text/plain": [
       "Index(['open', 'close', 'high', 'low', 'volume'], dtype='object')"
      ]
     },
     "execution_count": 6,
     "metadata": {},
     "output_type": "execute_result"
    }
   ],
   "source": [
    "data.columns"
   ]
  },
  {
   "cell_type": "code",
   "execution_count": 7,
   "metadata": {},
   "outputs": [
    {
     "data": {
      "text/plain": [
       "open      0\n",
       "close     0\n",
       "high      0\n",
       "low       0\n",
       "volume    0\n",
       "dtype: int64"
      ]
     },
     "execution_count": 7,
     "metadata": {},
     "output_type": "execute_result"
    }
   ],
   "source": [
    "data.isnull().sum()"
   ]
  },
  {
   "cell_type": "markdown",
   "metadata": {},
   "source": [
    "### Imputing missing data points"
   ]
  },
  {
   "cell_type": "code",
   "execution_count": 8,
   "metadata": {},
   "outputs": [],
   "source": [
    "data = data.resample('1min').first().ffill()"
   ]
  },
  {
   "cell_type": "markdown",
   "metadata": {},
   "source": [
    "### Rolling up data"
   ]
  },
  {
   "cell_type": "code",
   "execution_count": 9,
   "metadata": {},
   "outputs": [],
   "source": [
    "def rollup(data, interval):\n",
    "    \n",
    "        temp = data.copy()\n",
    "\n",
    "        temp['close'] = temp['close'].resample(interval, label='right', closed = 'right').ohlc()['close']\n",
    "        temp['high'] = temp['high'].resample(interval, label='right', closed = 'right').ohlc()['high']\n",
    "        temp['low'] = temp['low'].resample(interval, label='right', closed = 'right').ohlc()['low']\n",
    "        temp['open'] = temp['open'].resample(interval, label='right', closed = 'right').ohlc()['open']\n",
    "        temp['volume'] = temp['volume'].resample(interval, label='right', closed = 'right').sum()\n",
    "        \n",
    "        return temp"
   ]
  },
  {
   "cell_type": "code",
   "execution_count": 10,
   "metadata": {},
   "outputs": [],
   "source": [
    "data_5min = rollup(data, '5min').dropna()"
   ]
  },
  {
   "cell_type": "markdown",
   "metadata": {},
   "source": [
    "##### '10min', '15min', '30min', etc. can be other time windows that we can try."
   ]
  },
  {
   "cell_type": "markdown",
   "metadata": {},
   "source": [
    "### Creating Features"
   ]
  },
  {
   "cell_type": "code",
   "execution_count": 17,
   "metadata": {},
   "outputs": [],
   "source": [
    "import ta"
   ]
  },
  {
   "cell_type": "code",
   "execution_count": 21,
   "metadata": {},
   "outputs": [
    {
     "name": "stderr",
     "output_type": "stream",
     "text": [
      "/home/ambuj/Desktop/dm_proj/env_dm/lib/python3.6/site-packages/ta/wrapper.py:161: SettingWithCopyWarning: \n",
      "A value is trying to be set on a copy of a slice from a DataFrame.\n",
      "Try using .loc[row_indexer,col_indexer] = value instead\n",
      "\n",
      "See the caveats in the documentation: https://pandas.pydata.org/pandas-docs/stable/user_guide/indexing.html#returning-a-view-versus-a-copy\n",
      "  df[f'{colprefix}trend_vortex_ind_pos'] = indicator.vortex_indicator_pos()\n",
      "/home/ambuj/Desktop/dm_proj/env_dm/lib/python3.6/site-packages/ta/wrapper.py:162: SettingWithCopyWarning: \n",
      "A value is trying to be set on a copy of a slice from a DataFrame.\n",
      "Try using .loc[row_indexer,col_indexer] = value instead\n",
      "\n",
      "See the caveats in the documentation: https://pandas.pydata.org/pandas-docs/stable/user_guide/indexing.html#returning-a-view-versus-a-copy\n",
      "  df[f'{colprefix}trend_vortex_ind_neg'] = indicator.vortex_indicator_neg()\n",
      "/home/ambuj/Desktop/dm_proj/env_dm/lib/python3.6/site-packages/ta/wrapper.py:163: SettingWithCopyWarning: \n",
      "A value is trying to be set on a copy of a slice from a DataFrame.\n",
      "Try using .loc[row_indexer,col_indexer] = value instead\n",
      "\n",
      "See the caveats in the documentation: https://pandas.pydata.org/pandas-docs/stable/user_guide/indexing.html#returning-a-view-versus-a-copy\n",
      "  df[f'{colprefix}trend_vortex_ind_diff'] = indicator.vortex_indicator_diff()\n",
      "/home/ambuj/Desktop/dm_proj/env_dm/lib/python3.6/site-packages/ta/wrapper.py:167: SettingWithCopyWarning: \n",
      "A value is trying to be set on a copy of a slice from a DataFrame.\n",
      "Try using .loc[row_indexer,col_indexer] = value instead\n",
      "\n",
      "See the caveats in the documentation: https://pandas.pydata.org/pandas-docs/stable/user_guide/indexing.html#returning-a-view-versus-a-copy\n",
      "  df[f'{colprefix}trend_trix'] = indicator.trix()\n",
      "/home/ambuj/Desktop/dm_proj/env_dm/lib/python3.6/site-packages/ta/wrapper.py:171: SettingWithCopyWarning: \n",
      "A value is trying to be set on a copy of a slice from a DataFrame.\n",
      "Try using .loc[row_indexer,col_indexer] = value instead\n",
      "\n",
      "See the caveats in the documentation: https://pandas.pydata.org/pandas-docs/stable/user_guide/indexing.html#returning-a-view-versus-a-copy\n",
      "  df[f'{colprefix}trend_mass_index'] = indicator.mass_index()\n",
      "/home/ambuj/Desktop/dm_proj/env_dm/lib/python3.6/site-packages/ta/wrapper.py:175: SettingWithCopyWarning: \n",
      "A value is trying to be set on a copy of a slice from a DataFrame.\n",
      "Try using .loc[row_indexer,col_indexer] = value instead\n",
      "\n",
      "See the caveats in the documentation: https://pandas.pydata.org/pandas-docs/stable/user_guide/indexing.html#returning-a-view-versus-a-copy\n",
      "  df[f'{colprefix}trend_cci'] = indicator.cci()\n",
      "/home/ambuj/Desktop/dm_proj/env_dm/lib/python3.6/site-packages/ta/wrapper.py:179: SettingWithCopyWarning: \n",
      "A value is trying to be set on a copy of a slice from a DataFrame.\n",
      "Try using .loc[row_indexer,col_indexer] = value instead\n",
      "\n",
      "See the caveats in the documentation: https://pandas.pydata.org/pandas-docs/stable/user_guide/indexing.html#returning-a-view-versus-a-copy\n",
      "  df[f'{colprefix}trend_dpo'] = indicator.dpo()\n",
      "/home/ambuj/Desktop/dm_proj/env_dm/lib/python3.6/site-packages/ta/wrapper.py:186: SettingWithCopyWarning: \n",
      "A value is trying to be set on a copy of a slice from a DataFrame.\n",
      "Try using .loc[row_indexer,col_indexer] = value instead\n",
      "\n",
      "See the caveats in the documentation: https://pandas.pydata.org/pandas-docs/stable/user_guide/indexing.html#returning-a-view-versus-a-copy\n",
      "  df[f'{colprefix}trend_kst'] = indicator.kst()\n",
      "/home/ambuj/Desktop/dm_proj/env_dm/lib/python3.6/site-packages/ta/wrapper.py:187: SettingWithCopyWarning: \n",
      "A value is trying to be set on a copy of a slice from a DataFrame.\n",
      "Try using .loc[row_indexer,col_indexer] = value instead\n",
      "\n",
      "See the caveats in the documentation: https://pandas.pydata.org/pandas-docs/stable/user_guide/indexing.html#returning-a-view-versus-a-copy\n",
      "  df[f'{colprefix}trend_kst_sig'] = indicator.kst_sig()\n",
      "/home/ambuj/Desktop/dm_proj/env_dm/lib/python3.6/site-packages/ta/wrapper.py:188: SettingWithCopyWarning: \n",
      "A value is trying to be set on a copy of a slice from a DataFrame.\n",
      "Try using .loc[row_indexer,col_indexer] = value instead\n",
      "\n",
      "See the caveats in the documentation: https://pandas.pydata.org/pandas-docs/stable/user_guide/indexing.html#returning-a-view-versus-a-copy\n",
      "  df[f'{colprefix}trend_kst_diff'] = indicator.kst_diff()\n",
      "/home/ambuj/Desktop/dm_proj/env_dm/lib/python3.6/site-packages/ta/wrapper.py:192: SettingWithCopyWarning: \n",
      "A value is trying to be set on a copy of a slice from a DataFrame.\n",
      "Try using .loc[row_indexer,col_indexer] = value instead\n",
      "\n",
      "See the caveats in the documentation: https://pandas.pydata.org/pandas-docs/stable/user_guide/indexing.html#returning-a-view-versus-a-copy\n",
      "  df[f'{colprefix}trend_ichimoku_a'] = indicator.ichimoku_a()\n",
      "/home/ambuj/Desktop/dm_proj/env_dm/lib/python3.6/site-packages/ta/wrapper.py:193: SettingWithCopyWarning: \n",
      "A value is trying to be set on a copy of a slice from a DataFrame.\n",
      "Try using .loc[row_indexer,col_indexer] = value instead\n",
      "\n",
      "See the caveats in the documentation: https://pandas.pydata.org/pandas-docs/stable/user_guide/indexing.html#returning-a-view-versus-a-copy\n",
      "  df[f'{colprefix}trend_ichimoku_b'] = indicator.ichimoku_b()\n",
      "/home/ambuj/Desktop/dm_proj/env_dm/lib/python3.6/site-packages/ta/wrapper.py:195: SettingWithCopyWarning: \n",
      "A value is trying to be set on a copy of a slice from a DataFrame.\n",
      "Try using .loc[row_indexer,col_indexer] = value instead\n",
      "\n",
      "See the caveats in the documentation: https://pandas.pydata.org/pandas-docs/stable/user_guide/indexing.html#returning-a-view-versus-a-copy\n",
      "  df[f'{colprefix}trend_visual_ichimoku_a'] = indicator.ichimoku_a()\n",
      "/home/ambuj/Desktop/dm_proj/env_dm/lib/python3.6/site-packages/ta/wrapper.py:196: SettingWithCopyWarning: \n",
      "A value is trying to be set on a copy of a slice from a DataFrame.\n",
      "Try using .loc[row_indexer,col_indexer] = value instead\n",
      "\n",
      "See the caveats in the documentation: https://pandas.pydata.org/pandas-docs/stable/user_guide/indexing.html#returning-a-view-versus-a-copy\n",
      "  df[f'{colprefix}trend_visual_ichimoku_b'] = indicator.ichimoku_b()\n",
      "/home/ambuj/Desktop/dm_proj/env_dm/lib/python3.6/site-packages/ta/wrapper.py:200: SettingWithCopyWarning: \n",
      "A value is trying to be set on a copy of a slice from a DataFrame.\n",
      "Try using .loc[row_indexer,col_indexer] = value instead\n",
      "\n",
      "See the caveats in the documentation: https://pandas.pydata.org/pandas-docs/stable/user_guide/indexing.html#returning-a-view-versus-a-copy\n",
      "  df[f'{colprefix}trend_aroon_up'] = indicator.aroon_up()\n",
      "/home/ambuj/Desktop/dm_proj/env_dm/lib/python3.6/site-packages/ta/wrapper.py:201: SettingWithCopyWarning: \n",
      "A value is trying to be set on a copy of a slice from a DataFrame.\n",
      "Try using .loc[row_indexer,col_indexer] = value instead\n",
      "\n",
      "See the caveats in the documentation: https://pandas.pydata.org/pandas-docs/stable/user_guide/indexing.html#returning-a-view-versus-a-copy\n",
      "  df[f'{colprefix}trend_aroon_down'] = indicator.aroon_down()\n",
      "/home/ambuj/Desktop/dm_proj/env_dm/lib/python3.6/site-packages/ta/wrapper.py:202: SettingWithCopyWarning: \n",
      "A value is trying to be set on a copy of a slice from a DataFrame.\n",
      "Try using .loc[row_indexer,col_indexer] = value instead\n",
      "\n",
      "See the caveats in the documentation: https://pandas.pydata.org/pandas-docs/stable/user_guide/indexing.html#returning-a-view-versus-a-copy\n",
      "  df[f'{colprefix}trend_aroon_ind'] = indicator.aroon_indicator()\n",
      "/home/ambuj/Desktop/dm_proj/env_dm/lib/python3.6/site-packages/ta/wrapper.py:206: SettingWithCopyWarning: \n",
      "A value is trying to be set on a copy of a slice from a DataFrame.\n",
      "Try using .loc[row_indexer,col_indexer] = value instead\n",
      "\n",
      "See the caveats in the documentation: https://pandas.pydata.org/pandas-docs/stable/user_guide/indexing.html#returning-a-view-versus-a-copy\n",
      "  df[f'{colprefix}trend_psar'] = indicator.psar()\n",
      "/home/ambuj/Desktop/dm_proj/env_dm/lib/python3.6/site-packages/ta/wrapper.py:207: SettingWithCopyWarning: \n",
      "A value is trying to be set on a copy of a slice from a DataFrame.\n",
      "Try using .loc[row_indexer,col_indexer] = value instead\n",
      "\n",
      "See the caveats in the documentation: https://pandas.pydata.org/pandas-docs/stable/user_guide/indexing.html#returning-a-view-versus-a-copy\n",
      "  df[f'{colprefix}trend_psar_up'] = indicator.psar_up()\n",
      "/home/ambuj/Desktop/dm_proj/env_dm/lib/python3.6/site-packages/ta/wrapper.py:208: SettingWithCopyWarning: \n",
      "A value is trying to be set on a copy of a slice from a DataFrame.\n",
      "Try using .loc[row_indexer,col_indexer] = value instead\n",
      "\n",
      "See the caveats in the documentation: https://pandas.pydata.org/pandas-docs/stable/user_guide/indexing.html#returning-a-view-versus-a-copy\n",
      "  df[f'{colprefix}trend_psar_down'] = indicator.psar_down()\n",
      "/home/ambuj/Desktop/dm_proj/env_dm/lib/python3.6/site-packages/ta/wrapper.py:209: SettingWithCopyWarning: \n",
      "A value is trying to be set on a copy of a slice from a DataFrame.\n",
      "Try using .loc[row_indexer,col_indexer] = value instead\n",
      "\n",
      "See the caveats in the documentation: https://pandas.pydata.org/pandas-docs/stable/user_guide/indexing.html#returning-a-view-versus-a-copy\n",
      "  df[f'{colprefix}trend_psar_up_indicator'] = indicator.psar_up_indicator()\n",
      "/home/ambuj/Desktop/dm_proj/env_dm/lib/python3.6/site-packages/ta/wrapper.py:210: SettingWithCopyWarning: \n",
      "A value is trying to be set on a copy of a slice from a DataFrame.\n",
      "Try using .loc[row_indexer,col_indexer] = value instead\n",
      "\n",
      "See the caveats in the documentation: https://pandas.pydata.org/pandas-docs/stable/user_guide/indexing.html#returning-a-view-versus-a-copy\n",
      "  df[f'{colprefix}trend_psar_down_indicator'] = indicator.psar_down_indicator()\n",
      "/home/ambuj/Desktop/dm_proj/env_dm/lib/python3.6/site-packages/ta/wrapper.py:232: SettingWithCopyWarning: \n",
      "A value is trying to be set on a copy of a slice from a DataFrame.\n",
      "Try using .loc[row_indexer,col_indexer] = value instead\n",
      "\n",
      "See the caveats in the documentation: https://pandas.pydata.org/pandas-docs/stable/user_guide/indexing.html#returning-a-view-versus-a-copy\n",
      "  df[f'{colprefix}momentum_rsi'] = RSIIndicator(close=df[close], n=14, fillna=fillna).rsi()\n"
     ]
    },
    {
     "name": "stderr",
     "output_type": "stream",
     "text": [
      "/home/ambuj/Desktop/dm_proj/env_dm/lib/python3.6/site-packages/ta/wrapper.py:236: SettingWithCopyWarning: \n",
      "A value is trying to be set on a copy of a slice from a DataFrame.\n",
      "Try using .loc[row_indexer,col_indexer] = value instead\n",
      "\n",
      "See the caveats in the documentation: https://pandas.pydata.org/pandas-docs/stable/user_guide/indexing.html#returning-a-view-versus-a-copy\n",
      "  high=df[high], low=df[low], close=df[close], volume=df[volume], n=14, fillna=fillna).money_flow_index()\n",
      "/home/ambuj/Desktop/dm_proj/env_dm/lib/python3.6/site-packages/ta/wrapper.py:239: SettingWithCopyWarning: \n",
      "A value is trying to be set on a copy of a slice from a DataFrame.\n",
      "Try using .loc[row_indexer,col_indexer] = value instead\n",
      "\n",
      "See the caveats in the documentation: https://pandas.pydata.org/pandas-docs/stable/user_guide/indexing.html#returning-a-view-versus-a-copy\n",
      "  df[f'{colprefix}momentum_tsi'] = TSIIndicator(close=df[close], r=25, s=13, fillna=fillna).tsi()\n",
      "/home/ambuj/Desktop/dm_proj/env_dm/lib/python3.6/site-packages/ta/wrapper.py:244: SettingWithCopyWarning: \n",
      "A value is trying to be set on a copy of a slice from a DataFrame.\n",
      "Try using .loc[row_indexer,col_indexer] = value instead\n",
      "\n",
      "See the caveats in the documentation: https://pandas.pydata.org/pandas-docs/stable/user_guide/indexing.html#returning-a-view-versus-a-copy\n",
      "  fillna=fillna).uo()\n",
      "/home/ambuj/Desktop/dm_proj/env_dm/lib/python3.6/site-packages/ta/wrapper.py:248: SettingWithCopyWarning: \n",
      "A value is trying to be set on a copy of a slice from a DataFrame.\n",
      "Try using .loc[row_indexer,col_indexer] = value instead\n",
      "\n",
      "See the caveats in the documentation: https://pandas.pydata.org/pandas-docs/stable/user_guide/indexing.html#returning-a-view-versus-a-copy\n",
      "  df[f'{colprefix}momentum_stoch'] = indicator.stoch()\n",
      "/home/ambuj/Desktop/dm_proj/env_dm/lib/python3.6/site-packages/ta/wrapper.py:249: SettingWithCopyWarning: \n",
      "A value is trying to be set on a copy of a slice from a DataFrame.\n",
      "Try using .loc[row_indexer,col_indexer] = value instead\n",
      "\n",
      "See the caveats in the documentation: https://pandas.pydata.org/pandas-docs/stable/user_guide/indexing.html#returning-a-view-versus-a-copy\n",
      "  df[f'{colprefix}momentum_stoch_signal'] = indicator.stoch_signal()\n",
      "/home/ambuj/Desktop/dm_proj/env_dm/lib/python3.6/site-packages/ta/wrapper.py:253: SettingWithCopyWarning: \n",
      "A value is trying to be set on a copy of a slice from a DataFrame.\n",
      "Try using .loc[row_indexer,col_indexer] = value instead\n",
      "\n",
      "See the caveats in the documentation: https://pandas.pydata.org/pandas-docs/stable/user_guide/indexing.html#returning-a-view-versus-a-copy\n",
      "  high=df[high], low=df[low], close=df[close], lbp=14, fillna=fillna).wr()\n",
      "/home/ambuj/Desktop/dm_proj/env_dm/lib/python3.6/site-packages/ta/wrapper.py:257: SettingWithCopyWarning: \n",
      "A value is trying to be set on a copy of a slice from a DataFrame.\n",
      "Try using .loc[row_indexer,col_indexer] = value instead\n",
      "\n",
      "See the caveats in the documentation: https://pandas.pydata.org/pandas-docs/stable/user_guide/indexing.html#returning-a-view-versus-a-copy\n",
      "  high=df[high], low=df[low], s=5, len=34, fillna=fillna).ao()\n",
      "/home/ambuj/Desktop/dm_proj/env_dm/lib/python3.6/site-packages/ta/wrapper.py:260: SettingWithCopyWarning: \n",
      "A value is trying to be set on a copy of a slice from a DataFrame.\n",
      "Try using .loc[row_indexer,col_indexer] = value instead\n",
      "\n",
      "See the caveats in the documentation: https://pandas.pydata.org/pandas-docs/stable/user_guide/indexing.html#returning-a-view-versus-a-copy\n",
      "  df[f'{colprefix}momentum_kama'] = KAMAIndicator(close=df[close], n=10, pow1=2, pow2=30, fillna=fillna).kama()\n",
      "/home/ambuj/Desktop/dm_proj/env_dm/lib/python3.6/site-packages/ta/wrapper.py:263: SettingWithCopyWarning: \n",
      "A value is trying to be set on a copy of a slice from a DataFrame.\n",
      "Try using .loc[row_indexer,col_indexer] = value instead\n",
      "\n",
      "See the caveats in the documentation: https://pandas.pydata.org/pandas-docs/stable/user_guide/indexing.html#returning-a-view-versus-a-copy\n",
      "  df[f'{colprefix}momentum_roc'] = ROCIndicator(close=df[close], n=12, fillna=fillna).roc()\n",
      "/home/ambuj/Desktop/dm_proj/env_dm/lib/python3.6/site-packages/ta/wrapper.py:280: SettingWithCopyWarning: \n",
      "A value is trying to be set on a copy of a slice from a DataFrame.\n",
      "Try using .loc[row_indexer,col_indexer] = value instead\n",
      "\n",
      "See the caveats in the documentation: https://pandas.pydata.org/pandas-docs/stable/user_guide/indexing.html#returning-a-view-versus-a-copy\n",
      "  df[f'{colprefix}others_dr'] = DailyReturnIndicator(close=df[close], fillna=fillna).daily_return()\n",
      "/home/ambuj/Desktop/dm_proj/env_dm/lib/python3.6/site-packages/ta/wrapper.py:283: SettingWithCopyWarning: \n",
      "A value is trying to be set on a copy of a slice from a DataFrame.\n",
      "Try using .loc[row_indexer,col_indexer] = value instead\n",
      "\n",
      "See the caveats in the documentation: https://pandas.pydata.org/pandas-docs/stable/user_guide/indexing.html#returning-a-view-versus-a-copy\n",
      "  df[f'{colprefix}others_dlr'] = DailyLogReturnIndicator(close=df[close], fillna=fillna).daily_log_return()\n",
      "/home/ambuj/Desktop/dm_proj/env_dm/lib/python3.6/site-packages/ta/wrapper.py:286: SettingWithCopyWarning: \n",
      "A value is trying to be set on a copy of a slice from a DataFrame.\n",
      "Try using .loc[row_indexer,col_indexer] = value instead\n",
      "\n",
      "See the caveats in the documentation: https://pandas.pydata.org/pandas-docs/stable/user_guide/indexing.html#returning-a-view-versus-a-copy\n",
      "  df[f'{colprefix}others_cr'] = CumulativeReturnIndicator(close=df[close], fillna=fillna).cumulative_return()\n"
     ]
    }
   ],
   "source": [
    "data_5min_ta = ta.add_all_ta_features(data_5min, open=\"open\", high=\"high\", low=\"low\", close=\"close\", volume=\"volume\")"
   ]
  },
  {
   "cell_type": "markdown",
   "metadata": {},
   "source": [
    "### Create the Target Column"
   ]
  },
  {
   "cell_type": "code",
   "execution_count": 31,
   "metadata": {
    "scrolled": true
   },
   "outputs": [
    {
     "name": "stderr",
     "output_type": "stream",
     "text": [
      "/home/ambuj/Desktop/dm_proj/env_dm/lib/python3.6/site-packages/ipykernel_launcher.py:2: SettingWithCopyWarning: \n",
      "A value is trying to be set on a copy of a slice from a DataFrame.\n",
      "Try using .loc[row_indexer,col_indexer] = value instead\n",
      "\n",
      "See the caveats in the documentation: https://pandas.pydata.org/pandas-docs/stable/user_guide/indexing.html#returning-a-view-versus-a-copy\n",
      "  \n"
     ]
    }
   ],
   "source": [
    "# create the target feature\n",
    "data_5min_ta['nextClosingPrice'] = data_5min_ta['close'].shift(-1)\n",
    "\n",
    "# drop the rows with 'None' in target column\n",
    "data_5min_ta = data_5min_ta.dropna(subset=['nextClosingPrice'])"
   ]
  },
  {
   "cell_type": "markdown",
   "metadata": {},
   "source": [
    "### Save csv"
   ]
  },
  {
   "cell_type": "code",
   "execution_count": 32,
   "metadata": {
    "scrolled": false
   },
   "outputs": [],
   "source": [
    "data_5min_ta.to_csv('data_5min_ta.csv')"
   ]
  }
 ],
 "metadata": {
  "kernelspec": {
   "display_name": "Python 3",
   "language": "python",
   "name": "python3"
  },
  "language_info": {
   "codemirror_mode": {
    "name": "ipython",
    "version": 3
   },
   "file_extension": ".py",
   "mimetype": "text/x-python",
   "name": "python",
   "nbconvert_exporter": "python",
   "pygments_lexer": "ipython3",
   "version": "3.6.9"
  }
 },
 "nbformat": 4,
 "nbformat_minor": 4
}
