{
 "cells": [
  {
   "cell_type": "code",
   "execution_count": 1,
   "metadata": {},
   "outputs": [],
   "source": [
    "import pandas as pd\n",
    "import numpy as np\n",
    "import matplotlib as mpl\n",
    "import matplotlib.pyplot as plt\n",
    "\n",
    "from sklearn.metrics import mean_squared_error"
   ]
  },
  {
   "cell_type": "code",
   "execution_count": 2,
   "metadata": {},
   "outputs": [],
   "source": [
    "# load the data\n",
    "data = pd.read_csv('btc_ta.csv')"
   ]
  },
  {
   "cell_type": "code",
   "execution_count": 3,
   "metadata": {},
   "outputs": [
    {
     "name": "stdout",
     "output_type": "stream",
     "text": [
      "<class 'pandas.core.frame.DataFrame'>\n",
      "RangeIndex: 2638440 entries, 0 to 2638439\n",
      "Data columns (total 74 columns):\n",
      " #   Column                     Dtype  \n",
      "---  ------                     -----  \n",
      " 0   Unnamed: 0                 int64  \n",
      " 1   time                       int64  \n",
      " 2   open                       float64\n",
      " 3   close                      float64\n",
      " 4   high                       float64\n",
      " 5   low                        float64\n",
      " 6   volume                     float64\n",
      " 7   volume_adi                 float64\n",
      " 8   volume_obv                 float64\n",
      " 9   volume_cmf                 float64\n",
      " 10  volume_fi                  float64\n",
      " 11  volume_em                  float64\n",
      " 12  volume_sma_em              float64\n",
      " 13  volume_vpt                 float64\n",
      " 14  volume_nvi                 float64\n",
      " 15  volatility_atr             float64\n",
      " 16  volatility_bbm             float64\n",
      " 17  volatility_bbh             float64\n",
      " 18  volatility_bbl             float64\n",
      " 19  volatility_bbw             float64\n",
      " 20  volatility_bbhi            float64\n",
      " 21  volatility_bbli            float64\n",
      " 22  volatility_kcc             float64\n",
      " 23  volatility_kch             float64\n",
      " 24  volatility_kcl             float64\n",
      " 25  volatility_kchi            float64\n",
      " 26  volatility_kcli            float64\n",
      " 27  volatility_dcl             float64\n",
      " 28  volatility_dch             float64\n",
      " 29  volatility_dchi            float64\n",
      " 30  volatility_dcli            float64\n",
      " 31  trend_macd                 float64\n",
      " 32  trend_macd_signal          float64\n",
      " 33  trend_macd_diff            float64\n",
      " 34  trend_ema_fast             float64\n",
      " 35  trend_ema_slow             float64\n",
      " 36  trend_adx                  float64\n",
      " 37  trend_adx_pos              float64\n",
      " 38  trend_adx_neg              float64\n",
      " 39  trend_vortex_ind_pos       float64\n",
      " 40  trend_vortex_ind_neg       float64\n",
      " 41  trend_vortex_ind_diff      float64\n",
      " 42  trend_trix                 float64\n",
      " 43  trend_mass_index           float64\n",
      " 44  trend_cci                  float64\n",
      " 45  trend_dpo                  float64\n",
      " 46  trend_kst                  float64\n",
      " 47  trend_kst_sig              float64\n",
      " 48  trend_kst_diff             float64\n",
      " 49  trend_ichimoku_a           float64\n",
      " 50  trend_ichimoku_b           float64\n",
      " 51  trend_visual_ichimoku_a    float64\n",
      " 52  trend_visual_ichimoku_b    float64\n",
      " 53  trend_aroon_up             float64\n",
      " 54  trend_aroon_down           float64\n",
      " 55  trend_aroon_ind            float64\n",
      " 56  trend_psar                 float64\n",
      " 57  trend_psar_up              float64\n",
      " 58  trend_psar_down            float64\n",
      " 59  trend_psar_up_indicator    float64\n",
      " 60  trend_psar_down_indicator  float64\n",
      " 61  momentum_rsi               float64\n",
      " 62  momentum_mfi               float64\n",
      " 63  momentum_tsi               float64\n",
      " 64  momentum_uo                float64\n",
      " 65  momentum_stoch             float64\n",
      " 66  momentum_stoch_signal      float64\n",
      " 67  momentum_wr                float64\n",
      " 68  momentum_ao                float64\n",
      " 69  momentum_kama              float64\n",
      " 70  momentum_roc               float64\n",
      " 71  others_dr                  float64\n",
      " 72  others_dlr                 float64\n",
      " 73  others_cr                  float64\n",
      "dtypes: float64(72), int64(2)\n",
      "memory usage: 1.5 GB\n"
     ]
    }
   ],
   "source": [
    "# examine the features\n",
    "data.info()"
   ]
  },
  {
   "cell_type": "code",
   "execution_count": 4,
   "metadata": {},
   "outputs": [],
   "source": [
    "# create the target feature\n",
    "data['nextClosingPrice'] = data['close'].shift(1)\n",
    "\n",
    "# drop the rows with 'None' in target column\n",
    "data = data.dropna(subset=['nextClosingPrice'])"
   ]
  },
  {
   "cell_type": "code",
   "execution_count": 5,
   "metadata": {},
   "outputs": [],
   "source": [
    "from xgboost import XGBRegressor\n",
    "from sklearn.linear_model import LinearRegression"
   ]
  },
  {
   "cell_type": "code",
   "execution_count": 6,
   "metadata": {},
   "outputs": [],
   "source": [
    "def testModel(df, windowLength, upToSize, stepSize):\n",
    "\n",
    "    # lists to store data, will concat to make result data frame\n",
    "    rmseList = []\n",
    "    predList = []\n",
    "    realList = []\n",
    "    predTimeList = []\n",
    "    \n",
    "    # extract feature and test data\n",
    "    X = df.drop(['Unnamed: 0', 'time', 'nextClosingPrice'], axis=1)\n",
    "    y = df['nextClosingPrice']\n",
    "\n",
    "    # rolling window test\n",
    "    for i in range(windowLength, upToSize, stepSize):\n",
    "        \n",
    "        # split the data\n",
    "        X_train, X_test = X[i-windowLength:i], X[i:i+1]\n",
    "        y_train, y_test = y[i-windowLength:i], y[i:i+1]\n",
    "        \n",
    "        # createa new model and fit it\n",
    "        model = XGBRegressor()\n",
    "        model.fit(X_train, y_train)\n",
    "\n",
    "        # make a prediction\n",
    "        y_pred = model.predict(X_test)\n",
    "        \n",
    "        # record time figures for result data frame\n",
    "        predTimeList.append(df['time'][i])\n",
    "        predList.append(y_pred)\n",
    "        realList.append(y_test)\n",
    "        \n",
    "        # measure the error of this prediction\n",
    "        mse = mean_squared_error(y_test, y_pred)\n",
    "        rmse = np.sqrt(mse)\n",
    "        rmseList.append(rmse)\n",
    "        \n",
    "    # result dictionary\n",
    "    result_data = pd.DataFrame({'Timestamp': predTimeList, \"Real\": realList, \"Preds\": predList, 'rmse': rmseList})\n",
    "    \n",
    "    # result plot\n",
    "    plt.plot('Timestamp', 'Real', data=result_data)\n",
    "    plt.plot('Timestamp', 'Preds', data=result_data)\n",
    "    plt.legend()\n",
    "    \n",
    "    print(\"\")\n",
    "    print(\"RMSE mean:{}, std:{}\".format(result_data['rmse'].mean(), result_data['rmse'].std()))\n",
    "    \n",
    "    return result_data"
   ]
  },
  {
   "cell_type": "code",
   "execution_count": 7,
   "metadata": {},
   "outputs": [
    {
     "name": "stdout",
     "output_type": "stream",
     "text": [
      "\n",
      "RMSE mean:0.22419792930917937, std:0.25265014189752655\n"
     ]
    },
    {
     "data": {
      "image/png": "[encoded data removed]",
      "text/plain": [
       "<Figure size 432x288 with 1 Axes>"
      ]
     },
     "metadata": {
      "needs_background": "light"
     },
     "output_type": "display_data"
    }
   ],
   "source": [
    "# test an xgb model trained over the previous 360 days\n",
    "xgb_results = testModel(data, 360, 460, 1)"
   ]
  }
 ],
 "metadata": {
  "kernelspec": {
   "display_name": "Python 3",
   "language": "python",
   "name": "python3"
  },
  "language_info": {
   "codemirror_mode": {
    "name": "ipython",
    "version": 3
   },
   "file_extension": ".py",
   "mimetype": "text/x-python",
   "name": "python",
   "nbconvert_exporter": "python",
   "pygments_lexer": "ipython3",
   "version": "3.8.1"
  }
 },
 "nbformat": 4,
 "nbformat_minor": 4
}
